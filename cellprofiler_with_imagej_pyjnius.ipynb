{
 "cells": [
  {
   "cell_type": "code",
   "execution_count": 1,
   "metadata": {},
   "outputs": [
    {
     "name": "stdout",
     "output_type": "stream",
     "text": [
      "Conda environment: /home/loci/anaconda3/envs/cp-notebooks\n",
      "JAVA_HOME -> /home/loci/Applications/jdk-9.0.4\n",
      "PYJNIUS_JAR already set: /home/loci/anaconda3/envs/cp-notebooks/share/pyjnius/pyjnius.jar\n",
      "Added 261 JARs to the Java classpath.\n"
     ]
    }
   ],
   "source": [
    "import os\n",
    "\n",
    "# -- Locate Java installation --\n",
    "\n",
    "#def is_java_9():\n",
    "#\n",
    "#def try_set_java_9():\n",
    "#    subprocess.check_output(['/usr/libexec/java_home', '-v', '9']).split('\\n')\n",
    "#\n",
    "# TODO: Require Java 9?\n",
    "\n",
    "def setenv(k, v):\n",
    "    os.environ[k] = v\n",
    "    print(k + ' -> ' + v)\n",
    "\n",
    "conda_env = os.getenv('CONDA_PREFIX')\n",
    "print('Conda environment: ' + conda_env)\n",
    "\n",
    "# FIXME - generalize\n",
    "# NB: In my tests, Java 8 (both 121 and 152) segfaulted, whereas Java 9\n",
    "# worked. But I had to `sudo ln -s . jre` in my Java installation to make\n",
    "# pyjnius find libjvm.dylib where it expected to find it. This is because\n",
    "# Java 9 no longer nests the JRE inside a subfolder called jre.\n",
    "setenv('JAVA_HOME', '/home/loci/Applications/jdk-9.0.4')\n",
    "\n",
    "# -- Locate the pyjnius Java library --\n",
    "\n",
    "if os.getenv('PYJNIUS_JAR') is None:\n",
    "    pyjnius_dir = conda_env + '/share/pyjnius/'\n",
    "    setenv('PYJNIUS_JAR', pyjnius_dir + os.listdir(pyjnius_dir)[0])\n",
    "else:\n",
    "    print('PYJNIUS_JAR already set: ' + os.getenv('PYJNIUS_JAR'))\n",
    "\n",
    "# -- Set up the Java classpath --\n",
    "\n",
    "# ImageJ\n",
    "ij_dir = '/home/loci/code/Fiji.app' # FIXME\n",
    "jars = []\n",
    "for root, dirs, files in os.walk(ij_dir + '/jars'):\n",
    "    for file in files:\n",
    "        if file.endswith('.jar') and \\\n",
    "                not file.startswith('imagej-legacy-') and \\\n",
    "                not file.startswith('ij1-patcher-') and \\\n",
    "                not file.startswith('ij-1.'):\n",
    "            jars.append(root + '/' + file)\n",
    "classpath = \":\".join(jars)\n",
    "\n",
    "# ImgLyb\n",
    "imglyb_dir = conda_env + '/share/imglyb/'\n",
    "imglyb_jar = imglyb_dir + os.listdir(imglyb_dir)[0]\n",
    "classpath += ':' + imglyb_jar\n",
    "\n",
    "os.environ['IMGLYB_JAR'] = classpath\n",
    "print(\"Added \" + str(len(jars) + 1) + \" JARs to the Java classpath.\")"
   ]
  },
  {
   "cell_type": "code",
   "execution_count": 2,
   "metadata": {
    "scrolled": true
   },
   "outputs": [
    {
     "name": "stderr",
     "output_type": "stream",
     "text": [
      "/home/loci/anaconda3/envs/cp-notebooks/lib/python2.7/site-packages/h5py/__init__.py:36: FutureWarning: Conversion of the second argument of issubdtype from `float` to `np.floating` is deprecated. In future, it will be treated as `np.float64 == np.dtype(float).type`.\n",
      "  from ._conv import register_converters as _register_converters\n"
     ]
    },
    {
     "name": "stdout",
     "output_type": "stream",
     "text": [
      "Using python < 3. Upgrade to python 3 recommended\n"
     ]
    }
   ],
   "source": [
    "import json\n",
    "import os\n",
    "import StringIO\n",
    "\n",
    "import cellprofiler.image\n",
    "import cellprofiler.measurement\n",
    "import cellprofiler.object\n",
    "import cellprofiler.pipeline\n",
    "import cellprofiler.preferences\n",
    "import cellprofiler.workspace\n",
    "import imglyb\n",
    "from matplotlib import pyplot as plt\n",
    "import numpy as np\n",
    "import pandas as pd\n",
    "from PIL import Image\n",
    "import jnius\n",
    "from jnius import JavaException\n",
    "import skimage.io"
   ]
  },
  {
   "cell_type": "code",
   "execution_count": 3,
   "metadata": {},
   "outputs": [],
   "source": [
    "def run_pipeline(pipeline_filename, image_dict):\n",
    "    cellprofiler.preferences.set_headless()\n",
    "    \n",
    "    # Create and load the pipeline\n",
    "    pipeline = cellprofiler.pipeline.Pipeline()\n",
    "    pipeline.load(pipeline_filename)\n",
    "    \n",
    "    # Create the image set, and add the image data\n",
    "    image_set_list = cellprofiler.image.ImageSetList()\n",
    "    image_set = image_set_list.get_image_set(0)\n",
    "    for image_name, input_pixels in image_dict.iteritems():\n",
    "        image_set.add(image_name, cellprofiler.image.Image(input_pixels))\n",
    "        \n",
    "    # Persist the object set here (for now, see workspace TODO)\n",
    "    object_set = cellprofiler.object.ObjectSet()\n",
    "\n",
    "    # We can only run one group -- set the group index to 1.\n",
    "    measurements = cellprofiler.measurement.Measurements()\n",
    "    measurements.group_index = 1\n",
    "\n",
    "    # Run the modules!\n",
    "    for module in pipeline.modules():\n",
    "        # Yes, we really do have to create a new workspace for each module\n",
    "        # because the module attribute is required. Go team.\n",
    "        workspace = cellprofiler.workspace.Workspace(\n",
    "            image_set=image_set,\n",
    "            image_set_list=image_set_list,\n",
    "            measurements=measurements, \n",
    "            module=module,\n",
    "            object_set=object_set, \n",
    "            pipeline=pipeline\n",
    "        )\n",
    "        \n",
    "        module.prepare_run(workspace)\n",
    "        module.run(workspace)\n",
    "        module.post_run(workspace)\n",
    "    \n",
    "    # The workspace object has access to the measurements\n",
    "    # and the image set/image set list which can be used\n",
    "    # to use/view/store/whatever output data.\n",
    "    return workspace\n",
    "\n",
    "\n",
    "def objects2df(measurements, objects_name):\n",
    "    features = measurements.get_feature_names(objects_name)\n",
    "    \n",
    "    n_features = len(features)\n",
    "    n_objects = int(measurements.get_measurement(\"Image\", \"Count_{}\".format(objects_name)))\n",
    "    \n",
    "    data = np.empty((n_objects, n_features))\n",
    "    \n",
    "    for feature_idx, feature in enumerate(features):\n",
    "        data[:, feature_idx] = measurements.get_measurement(objects_name, feature)\n",
    "    \n",
    "    return pd.DataFrame(\n",
    "        data=data,\n",
    "        index=np.arange(1, n_objects + 1),\n",
    "        columns=features\n",
    "    )\n",
    "\n",
    "\n",
    "def data2image(data):\n",
    "    return Image.open(StringIO.StringIO(data))\n",
    "\n",
    "\n",
    "def show(image):\n",
    "    plt.imshow(image, interpolation='nearest', cmap='gray')\n",
    "    plt.show()"
   ]
  },
  {
   "cell_type": "code",
   "execution_count": 4,
   "metadata": {},
   "outputs": [],
   "source": [
    "# Spin up the ImageJ context.\n",
    "ImageJ = jnius.autoclass('net.imagej.ImageJ')\n",
    "ij = ImageJ()"
   ]
  },
  {
   "cell_type": "code",
   "execution_count": 5,
   "metadata": {},
   "outputs": [
    {
     "data": {
      "image/png": "[encoded data removed]",
      "text/plain": [
       "<matplotlib.figure.Figure at 0x7f1678611c50>"
      ]
     },
     "metadata": {},
     "output_type": "display_data"
    }
   ],
   "source": [
    "img = skimage.io.imread('data/images/1-162hrh2ax2.tif')\n",
    "show(img)"
   ]
  },
  {
   "cell_type": "code",
   "execution_count": 6,
   "metadata": {},
   "outputs": [
    {
     "name": "stdout",
     "output_type": "stream",
     "text": [
      "info is 361280 characters long.\n"
     ]
    }
   ],
   "source": [
    "HashMap = jnius.autoclass('java.util.HashMap')\n",
    "input_map = HashMap()\n",
    "result = ij.command().run(\"org.scijava.plugins.commands.debug.SystemInformation\", True, input_map).get()\n",
    "\n",
    "#result.getOutputs().toString()    #### AttributeError: 'java.util.Map' object has no attribute 'toString'\n",
    "# pyjnius is being too strict -- you write foo.toString()\n",
    "# and it fails because toString is not a Map method (or superinterface of Map method)\n",
    "# Java compiler knows all objects extend Object, so you can say foo.toString()\n",
    "# I would call this a bug in pyjnius.\n",
    "\n",
    "Objects = jnius.autoclass('java.util.Objects')\n",
    "print('info is ' + str(len(Objects.toString(result.getOutputs()))) + ' characters long.')\n",
    "\n",
    "info = result.getOutputs().get('info')\n",
    "# does pyjnius have code to go from [] <-> List and {} <-> Map\n",
    "# if not: we should write these functions\n",
    "# https://github.com/kivy/pyjnius/issues/217"
   ]
  },
  {
   "cell_type": "code",
   "execution_count": null,
   "metadata": {},
   "outputs": [],
   "source": [
    "# Invoke the FindEdges command of ImageJ.\n",
    "#image_display = ij.display().createDisplay(imglyb.to_imglib(img))"
   ]
  },
  {
   "cell_type": "code",
   "execution_count": 7,
   "metadata": {},
   "outputs": [
    {
     "name": "stdout",
     "output_type": "stream",
     "text": [
      "Available operations:\n",
      "\t(Img out) =\n",
      "\tnet.imagej.ops.create.img.CreateImgFromImg(\n",
      "\t\tImg in)\n",
      "\t(Img out) =\n",
      "\tnet.imagej.ops.create.img.CreateImgFromII(\n",
      "\t\tIterableInterval in)\n",
      "\t(Img out) =\n",
      "\tnet.imagej.ops.create.img.CreateImgFromRAI(\n",
      "\t\tRandomAccessibleInterval in)\n",
      "\t(Img out) =\n",
      "\tnet.imagej.ops.create.img.CreateImgFromDimsAndType(\n",
      "\t\tDimensions in1,\n",
      "\t\tNativeType in2,\n",
      "\t\tImgFactory factory?)\n",
      "\t(Img out) =\n",
      "\tnet.imagej.ops.create.img.CreateImgFromInterval(\n",
      "\t\tInterval in)\n"
     ]
    }
   ],
   "source": [
    "print(ij.op().help(\"create.img\"))"
   ]
  },
  {
   "cell_type": "code",
   "execution_count": 17,
   "metadata": {},
   "outputs": [
    {
     "name": "stdout",
     "output_type": "stream",
     "text": [
      "<net/imglib2/python/ReferenceGuardingRandomAccessibleInterval at 0x7f15edbd7cb0 jclass=net/imglib2/python/ReferenceGuardingRandomAccessibleInterval jself=<LocalRef obj=0x7f1674004a80 at 0x7f16045a64b0>>\n"
     ]
    }
   ],
   "source": [
    "HashMap = jnius.autoclass('java.util.HashMap')\n",
    "input_map = HashMap()\n",
    "print( imglyb.to_imglib(img))\n",
    "img_copy = ij.op().run(\"create.img\", imglyb.to_imglib(img))\n",
    "input_map.put('display', ij.display().createDisplay(img_copy))\n",
    "\n",
    "#class_name = 'net.imagej.plugins.commands.neigh.FindEdges'\n",
    "#result = ij.command().run(class_name, True, input_map).get()\n",
    "#Objects.toString(result.getOutputs())"
   ]
  },
  {
   "cell_type": "code",
   "execution_count": 44,
   "metadata": {},
   "outputs": [
    {
     "name": "stdout",
     "output_type": "stream",
     "text": [
      "<net.imagej.display.DefaultImageDisplay at 0x7f15edbaaad0 jclass=net/imagej/display/DefaultImageDisplay jself=<LocalRef obj=0x55738536a2c0 at 0x7f16045a68b0>>\n"
     ]
    },
    {
     "data": {
      "text/plain": [
       "'{display=null}'"
      ]
     },
     "execution_count": 44,
     "metadata": {},
     "output_type": "execute_result"
    }
   ],
   "source": [
    "class_name = 'net.imagej.plugins.commands.neigh.FindEdges'\n",
    "output = ij.command().run(class_name, True, input_map).get()\n",
    "print(output.getOutputs().get('display'))\n",
    "Objects.toString(output.getOutputs())"
   ]
  },
  {
   "cell_type": "code",
   "execution_count": 52,
   "metadata": {},
   "outputs": [
    {
     "ename": "JavaException",
     "evalue": "No methods matching your arguments",
     "output_type": "error",
     "traceback": [
      "\u001b[0;31m---------------------------------------------------------------------------\u001b[0m",
      "\u001b[0;31mJavaException\u001b[0m                             Traceback (most recent call last)",
      "\u001b[0;32m<ipython-input-52-c397f7dea6d7>\u001b[0m in \u001b[0;36m<module>\u001b[0;34m()\u001b[0m\n\u001b[1;32m      1\u001b[0m \u001b[0mservice\u001b[0m \u001b[0;34m=\u001b[0m \u001b[0mjnius\u001b[0m\u001b[0;34m.\u001b[0m\u001b[0mautoclass\u001b[0m\u001b[0;34m(\u001b[0m\u001b[0;34m'net.imagej.display.ImageDisplayService'\u001b[0m\u001b[0;34m)\u001b[0m\u001b[0;34m\u001b[0m\u001b[0m\n\u001b[1;32m      2\u001b[0m \u001b[0mdisplay\u001b[0m \u001b[0;34m=\u001b[0m \u001b[0moutput\u001b[0m\u001b[0;34m.\u001b[0m\u001b[0mgetOutputs\u001b[0m\u001b[0;34m(\u001b[0m\u001b[0;34m)\u001b[0m\u001b[0;34m.\u001b[0m\u001b[0mget\u001b[0m\u001b[0;34m(\u001b[0m\u001b[0;34m\"display\"\u001b[0m\u001b[0;34m)\u001b[0m\u001b[0;34m\u001b[0m\u001b[0m\n\u001b[0;32m----> 3\u001b[0;31m \u001b[0mservice\u001b[0m\u001b[0;34m.\u001b[0m\u001b[0mgetActiveDataset\u001b[0m\u001b[0;34m(\u001b[0m\u001b[0mdisplay\u001b[0m\u001b[0;34m)\u001b[0m\u001b[0;34m\u001b[0m\u001b[0m\n\u001b[0m\u001b[1;32m      4\u001b[0m \u001b[0;32mprint\u001b[0m\u001b[0;34m(\u001b[0m\u001b[0mdisplay\u001b[0m\u001b[0;34m)\u001b[0m\u001b[0;34m\u001b[0m\u001b[0m\n",
      "\u001b[0;32mjnius/jnius_export_class.pxi\u001b[0m in \u001b[0;36mjnius.JavaMultipleMethod.__call__\u001b[0;34m()\u001b[0m\n",
      "\u001b[0;31mJavaException\u001b[0m: No methods matching your arguments"
     ]
    }
   ],
   "source": [
    "# how to get image from default Image display?\n",
    "service = jnius.autoclass('net.imagej.display.ImageDisplayService')\n",
    "display = output.getOutputs().get(\"display\")\n",
    "service.getActiveDataset(display)\n",
    "print(display)"
   ]
  },
  {
   "cell_type": "code",
   "execution_count": 25,
   "metadata": {},
   "outputs": [
    {
     "name": "stdout",
     "output_type": "stream",
     "text": [
      "<net.imagej.display.DefaultImageDisplay at 0x7f15f2aadd70 jclass=net/imagej/display/DefaultImageDisplay jself=<LocalRef obj=0x557384d84ce8 at 0x7f16045a6530>>\n"
     ]
    }
   ],
   "source": [
    "#how to convert?\n",
    "print(output.getOutputs().get(\"display\"))"
   ]
  },
  {
   "cell_type": "code",
   "execution_count": null,
   "metadata": {},
   "outputs": [],
   "source": [
    "images = {\n",
    "    'EnhancedGreen': enhanced,\n",
    "    'OrigBlue': skimage.io.imread('data/images/1-162hrhoe2.tif'),\n",
    "    'OrigGreen': img\n",
    "}\n",
    "\n",
    "pipeline_filename = 'data/ExampleSpeckles.cppipe'\n",
    "\n",
    "workspace = run_pipeline(pipeline_filename, images)"
   ]
  },
  {
   "cell_type": "code",
   "execution_count": null,
   "metadata": {},
   "outputs": [],
   "source": [
    "df = objects2df(workspace.measurements, \"Nuclei\")\n",
    "df.head()"
   ]
  },
  {
   "cell_type": "code",
   "execution_count": null,
   "metadata": {},
   "outputs": [],
   "source": [
    "nuclei = workspace.object_set.get_objects(\"Nuclei\")\n",
    "skimage.io.imshow(nuclei.segmented)"
   ]
  },
  {
   "cell_type": "code",
   "execution_count": null,
   "metadata": {},
   "outputs": [],
   "source": []
  }
 ],
 "metadata": {
  "kernelspec": {
   "display_name": "Python 2",
   "language": "python",
   "name": "python2"
  },
  "language_info": {
   "codemirror_mode": {
    "name": "ipython",
    "version": 2
   },
   "file_extension": ".py",
   "mimetype": "text/x-python",
   "name": "python",
   "nbconvert_exporter": "python",
   "pygments_lexer": "ipython2",
   "version": "2.7.14"
  }
 },
 "nbformat": 4,
 "nbformat_minor": 2
}
