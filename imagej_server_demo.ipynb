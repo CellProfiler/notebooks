{
 "cells": [
  {
   "cell_type": "markdown",
   "metadata": {},
   "source": [
    "## NB: Start an ImageJ server before you run this!\n",
    "\n",
    "```\n",
    "git clone git://github.com/imagej/imagej-server\n",
    "cd image-server\n",
    "mvn -Pexec\n",
    "```"
   ]
  },
  {
   "cell_type": "code",
   "execution_count": 1,
   "metadata": {},
   "outputs": [],
   "source": [
    "import json\n",
    "import StringIO\n",
    "\n",
    "import imagej.server as imagej\n",
    "from matplotlib import pyplot as plt\n",
    "import numpy as np\n",
    "from PIL import Image"
   ]
  },
  {
   "cell_type": "code",
   "execution_count": 2,
   "metadata": {},
   "outputs": [],
   "source": [
    "ij = imagej.IJ()"
   ]
  },
  {
   "cell_type": "code",
   "execution_count": 3,
   "metadata": {},
   "outputs": [],
   "source": [
    "# Find modules that contain a specific string in its ID.\n",
    "create = ij.find('CreateImgFromImg')[0]\n",
    "invert = ij.find('InvertII')[0]"
   ]
  },
  {
   "cell_type": "code",
   "execution_count": 4,
   "metadata": {},
   "outputs": [
    {
     "name": "stdout",
     "output_type": "stream",
     "text": [
      "Details for CreateImgFromImg:\n",
      "{\n",
      "    \"inputs\": [\n",
      "        {\n",
      "            \"columnCount\": 6, \n",
      "            \"minimumValue\": null, \n",
      "            \"name\": \"in\", \n",
      "            \"maximumValue\": null, \n",
      "            \"defaultValue\": null, \n",
      "            \"required\": true, \n",
      "            \"choices\": null, \n",
      "            \"widgetStyle\": \"\", \n",
      "            \"stepSize\": null, \n",
      "            \"softMinimum\": null, \n",
      "            \"label\": \"\", \n",
      "            \"genericType\": \"net.imglib2.img.Img<capture of ?>\", \n",
      "            \"softMaximum\": null\n",
      "        }\n",
      "    ], \n",
      "    \"identifier\": \"command:net.imagej.ops.create.img.CreateImgFromImg\", \n",
      "    \"outputs\": [\n",
      "        {\n",
      "            \"columnCount\": 6, \n",
      "            \"minimumValue\": null, \n",
      "            \"name\": \"out\", \n",
      "            \"maximumValue\": null, \n",
      "            \"defaultValue\": null, \n",
      "            \"required\": true, \n",
      "            \"choices\": null, \n",
      "            \"widgetStyle\": \"\", \n",
      "            \"stepSize\": null, \n",
      "            \"softMinimum\": null, \n",
      "            \"label\": \"\", \n",
      "            \"genericType\": \"net.imglib2.img.Img<capture of ?>\", \n",
      "            \"softMaximum\": null\n",
      "        }\n",
      "    ]\n",
      "}\n",
      "Details for InvertII:\n",
      "{\n",
      "    \"inputs\": [\n",
      "        {\n",
      "            \"columnCount\": 6, \n",
      "            \"minimumValue\": null, \n",
      "            \"name\": \"out\", \n",
      "            \"maximumValue\": null, \n",
      "            \"defaultValue\": null, \n",
      "            \"required\": true, \n",
      "            \"choices\": null, \n",
      "            \"widgetStyle\": \"\", \n",
      "            \"stepSize\": null, \n",
      "            \"softMinimum\": null, \n",
      "            \"label\": \"\", \n",
      "            \"genericType\": \"net.imglib2.IterableInterval<capture of ?>\", \n",
      "            \"softMaximum\": null\n",
      "        }, \n",
      "        {\n",
      "            \"columnCount\": 6, \n",
      "            \"minimumValue\": null, \n",
      "            \"name\": \"in\", \n",
      "            \"maximumValue\": null, \n",
      "            \"defaultValue\": null, \n",
      "            \"required\": true, \n",
      "            \"choices\": null, \n",
      "            \"widgetStyle\": \"\", \n",
      "            \"stepSize\": null, \n",
      "            \"softMinimum\": null, \n",
      "            \"label\": \"\", \n",
      "            \"genericType\": \"net.imglib2.IterableInterval<capture of ?>\", \n",
      "            \"softMaximum\": null\n",
      "        }\n",
      "    ], \n",
      "    \"identifier\": \"command:net.imagej.ops.image.invert.InvertII\", \n",
      "    \"outputs\": [\n",
      "        {\n",
      "            \"columnCount\": 6, \n",
      "            \"minimumValue\": null, \n",
      "            \"name\": \"out\", \n",
      "            \"maximumValue\": null, \n",
      "            \"defaultValue\": null, \n",
      "            \"required\": true, \n",
      "            \"choices\": null, \n",
      "            \"widgetStyle\": \"\", \n",
      "            \"stepSize\": null, \n",
      "            \"softMinimum\": null, \n",
      "            \"label\": \"\", \n",
      "            \"genericType\": \"net.imglib2.IterableInterval<capture of ?>\", \n",
      "            \"softMaximum\": null\n",
      "        }\n",
      "    ]\n",
      "}\n"
     ]
    }
   ],
   "source": [
    "# Check details of a module. Names of \"inputs\" and \"outputs\" are usually important.\n",
    "print('Details for CreateImgFromImg:')\n",
    "print(json.dumps(ij.detail(create), indent=4))\n",
    "\n",
    "print('Details for InvertII:')\n",
    "print(json.dumps(ij.detail(invert), indent=4))"
   ]
  },
  {
   "cell_type": "code",
   "execution_count": 5,
   "metadata": {},
   "outputs": [
    {
     "data": {
      "text/plain": [
       "u'object:jf1kg92us1x6nnab'"
      ]
     },
     "execution_count": 5,
     "metadata": {},
     "output_type": "execute_result"
    }
   ],
   "source": [
    "# Upload an image.\n",
    "img_in = ij.upload('data/images/cells-16bit.tif')\n",
    "img_in"
   ]
  },
  {
   "cell_type": "code",
   "execution_count": 6,
   "metadata": {},
   "outputs": [],
   "source": [
    "# Execute modules.\n",
    "result = ij.run(create, {'in': img_in})\n",
    "img_out = result['out']\n",
    "\n",
    "result = ij.run(invert, {'in': img_in, 'out': img_out})\n",
    "img_out = result['out']"
   ]
  },
  {
   "cell_type": "code",
   "execution_count": 7,
   "metadata": {},
   "outputs": [],
   "source": [
    "# Retrieve images.\n",
    "cells_png = ij.retrieve(img_out, format='png')"
   ]
  },
  {
   "cell_type": "code",
   "execution_count": 8,
   "metadata": {},
   "outputs": [],
   "source": [
    "def data2image(data):\n",
    "    return Image.open(StringIO.StringIO(data))\n",
    "\n",
    "def show(image):\n",
    "    plt.imshow(image, interpolation='nearest', cmap='gray')\n",
    "    plt.show()"
   ]
  },
  {
   "cell_type": "code",
   "execution_count": 9,
   "metadata": {},
   "outputs": [
    {
     "data": {
      "image/png": "[encoded data removed]",
      "text/plain": [
       "<matplotlib.figure.Figure at 0x7fc09e7dc850>"
      ]
     },
     "metadata": {},
     "output_type": "display_data"
    }
   ],
   "source": [
    "# convert image data to PIL image.\n",
    "cells_pil = data2image(cells_png)\n",
    "\n",
    "# We can also convert a PIL image to numpy array as needed.\n",
    "cells_np = np.array(cells_pil)\n",
    "show(cells_np)"
   ]
  },
  {
   "cell_type": "code",
   "execution_count": null,
   "metadata": {},
   "outputs": [],
   "source": []
  }
 ],
 "metadata": {
  "kernelspec": {
   "display_name": "Python 2",
   "language": "python",
   "name": "python2"
  },
  "language_info": {
   "codemirror_mode": {
    "name": "ipython",
    "version": 2
   },
   "file_extension": ".py",
   "mimetype": "text/x-python",
   "name": "python",
   "nbconvert_exporter": "python",
   "pygments_lexer": "ipython2",
   "version": "2.7.14"
  }
 },
 "nbformat": 4,
 "nbformat_minor": 2
}
