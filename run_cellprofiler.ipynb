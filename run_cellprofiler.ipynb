{
 "cells": [
  {
   "cell_type": "code",
   "execution_count": null,
   "metadata": {},
   "outputs": [],
   "source": [
    "import os\n",
    "\n",
    "import cellprofiler.image\n",
    "import cellprofiler.measurement\n",
    "import cellprofiler.object\n",
    "import cellprofiler.pipeline\n",
    "import cellprofiler.preferences\n",
    "import cellprofiler.workspace\n",
    "import numpy as np\n",
    "import pandas as pd\n",
    "import skimage.io"
   ]
  },
  {
   "cell_type": "code",
   "execution_count": null,
   "metadata": {},
   "outputs": [],
   "source": [
    "def run_pipeline(pipeline_filename, image_dict):\n",
    "    cellprofiler.preferences.set_headless()\n",
    "    \n",
    "    # Create and load the pipeline\n",
    "    pipeline = cellprofiler.pipeline.Pipeline()\n",
    "    pipeline.load(pipeline_filename)\n",
    "    \n",
    "    # Create the image set, and add the image data\n",
    "    image_set_list = cellprofiler.image.ImageSetList()\n",
    "    image_set = image_set_list.get_image_set(0)\n",
    "    for image_name, input_pixels in image_dict.iteritems():\n",
    "        image_set.add(image_name, cellprofiler.image.Image(input_pixels))\n",
    "        \n",
    "    # Persist the object set here (for now, see workspace TODO)\n",
    "    object_set = cellprofiler.object.ObjectSet()\n",
    "\n",
    "    # We can only run one group -- set the group index to 1.\n",
    "    measurements = cellprofiler.measurement.Measurements()\n",
    "    measurements.group_index = 1\n",
    "\n",
    "    # Run the modules!\n",
    "    for module in pipeline.modules():\n",
    "        # Yes, we really do have to create a new workspace for each module\n",
    "        # because the module attribute is required. Go team.\n",
    "        workspace = cellprofiler.workspace.Workspace(\n",
    "            image_set=image_set,\n",
    "            image_set_list=image_set_list,\n",
    "            measurements=measurements, \n",
    "            module=module,\n",
    "            object_set=object_set, \n",
    "            pipeline=pipeline\n",
    "        )\n",
    "        \n",
    "        module.prepare_run(workspace)\n",
    "        module.run(workspace)\n",
    "        module.post_run(workspace)\n",
    "    \n",
    "    # The workspace object has access to the measurements\n",
    "    # and the image set/image set list which can be used\n",
    "    # to use/view/store/whatever output data.\n",
    "    return workspace"
   ]
  },
  {
   "cell_type": "code",
   "execution_count": null,
   "metadata": {},
   "outputs": [],
   "source": [
    "def objects2df(measurements, objects_name):\n",
    "    features = measurements.get_feature_names(objects_name)\n",
    "    \n",
    "    n_features = len(features)\n",
    "    n_objects = int(measurements.get_measurement(\"Image\", \"Count_{}\".format(objects_name)))\n",
    "    \n",
    "    data = np.empty((n_objects, n_features))\n",
    "    \n",
    "    for feature_idx, feature in enumerate(features):\n",
    "        data[:, feature_idx] = measurements.get_measurement(objects_name, feature)\n",
    "    \n",
    "    return pd.DataFrame(\n",
    "        data=data,\n",
    "        index=np.arange(1, n_objects + 1),\n",
    "        columns=features\n",
    "    )"
   ]
  },
  {
   "cell_type": "code",
   "execution_count": null,
   "metadata": {},
   "outputs": [],
   "source": [
    "# This should match what NamesAndTypes would produce.\n",
    "images = {\n",
    "    \"OrigBlue\": skimage.io.imread(\"data/images/01_POS002_D.TIF\"),\n",
    "    \"OrigGreen\": skimage.io.imread(\"data/images/01_POS002_F.TIF\"),\n",
    "    \"OrigRed\": skimage.io.imread(\"data/images/01_POS002_R.TIF\")\n",
    "}\n",
    "\n",
    "pipeline_filename = \"data/ExampleFly.cppipe\""
   ]
  },
  {
   "cell_type": "code",
   "execution_count": null,
   "metadata": {},
   "outputs": [],
   "source": [
    "workspace = run_pipeline(pipeline_filename, images)"
   ]
  },
  {
   "cell_type": "code",
   "execution_count": null,
   "metadata": {},
   "outputs": [],
   "source": [
    "# Get the \"Nuclei\" object measurements, as a pandas DataFrame\n",
    "df = objects2df(workspace.measurements, \"Nuclei\")\n",
    "df.head()"
   ]
  },
  {
   "cell_type": "code",
   "execution_count": null,
   "metadata": {},
   "outputs": [],
   "source": [
    "# Display the \"RGBImage\" image, created by GrayToColor\n",
    "rgb_image = workspace.image_set.get_image(\"RGBImage\")\n",
    "skimage.io.imshow(rgb_image.pixel_data)"
   ]
  },
  {
   "cell_type": "code",
   "execution_count": null,
   "metadata": {},
   "outputs": [],
   "source": []
  }
 ],
 "metadata": {
  "kernelspec": {
   "display_name": "Python 2",
   "language": "python",
   "name": "python2"
  },
  "language_info": {
   "codemirror_mode": {
    "name": "ipython",
    "version": 2
   },
   "file_extension": ".py",
   "mimetype": "text/x-python",
   "name": "python",
   "nbconvert_exporter": "python",
   "pygments_lexer": "ipython2",
   "version": "2.7.14"
  }
 },
 "nbformat": 4,
 "nbformat_minor": 2
}
